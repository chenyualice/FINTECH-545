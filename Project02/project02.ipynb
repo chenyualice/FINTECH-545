{
 "cells": [
  {
   "cell_type": "code",
   "execution_count": 71,
   "id": "e96f8fad-f268-4bd8-909b-42e0c3c13200",
   "metadata": {},
   "outputs": [],
   "source": [
    "import pandas as pd\n",
    "import numpy as np\n",
    "import scipy.stats as stats\n",
    "import matplotlib.pyplot as plt\n",
    "from scipy.stats import t, norm\n",
    "from scipy.optimize import root_scalar\n",
    "import matplotlib.pyplot as plt"
   ]
  },
  {
   "cell_type": "code",
   "execution_count": 16,
   "id": "5bea8f69-9ac3-494e-a21b-743fefdbd6f7",
   "metadata": {},
   "outputs": [],
   "source": [
    "#problem1"
   ]
  },
  {
   "cell_type": "code",
   "execution_count": 17,
   "id": "c07e1d21-7fc3-4068-9b18-bc6f8fb623f9",
   "metadata": {},
   "outputs": [],
   "source": [
    "df = pd.read_csv(\"DailyPrices.csv\", index_col=\"Date\", parse_dates=True)"
   ]
  },
  {
   "cell_type": "code",
   "execution_count": 18,
   "id": "e3539da5-edaa-49d6-ac1c-1b884a60142a",
   "metadata": {},
   "outputs": [],
   "source": [
    "stocks = [\"SPY\", \"AAPL\", \"EQIX\"]\n",
    "data = df[stocks]"
   ]
  },
  {
   "cell_type": "code",
   "execution_count": 19,
   "id": "1ac71f7b-fd81-44b7-be0f-0b2b1ab43f96",
   "metadata": {},
   "outputs": [
    {
     "name": "stdout",
     "output_type": "stream",
     "text": [
      "Arithmetic Returns - Last 5 Rows:\n",
      "                 SPY      AAPL      EQIX\n",
      "Date                                    \n",
      "2024-12-27 -0.011492 -0.014678 -0.006966\n",
      "2024-12-30 -0.012377 -0.014699 -0.008064\n",
      "2024-12-31 -0.004603 -0.008493  0.006512\n",
      "2025-01-02 -0.003422 -0.027671  0.000497\n",
      "2025-01-03  0.011538 -0.003445  0.015745\n",
      "Total Standard Deviation (Arithmetic Returns): 0.012679754664908071\n"
     ]
    }
   ],
   "source": [
    "#Part A\n",
    "arithmetic_returns = data.pct_change().dropna()\n",
    "arithmetic_returns -= arithmetic_returns.mean()\n",
    "total_std_arithmetic = np.sqrt((arithmetic_returns**2).sum().sum() / (arithmetic_returns.size - 1))\n",
    "\n",
    "print(\"Arithmetic Returns - Last 5 Rows:\")\n",
    "print(arithmetic_returns.tail())\n",
    "print(\"Total Standard Deviation (Arithmetic Returns):\", total_std_arithmetic)"
   ]
  },
  {
   "cell_type": "code",
   "execution_count": 20,
   "id": "04c149fa-d3cd-486c-a932-3b57001fa908",
   "metadata": {},
   "outputs": [
    {
     "name": "stdout",
     "output_type": "stream",
     "text": [
      "\n",
      "Log Returns - Last 5 Rows:\n",
      "                 SPY      AAPL      EQIX\n",
      "Date                                    \n",
      "2024-12-27 -0.011515 -0.014675 -0.006867\n",
      "2024-12-30 -0.012410 -0.014696 -0.007972\n",
      "2024-12-31 -0.004577 -0.008427  0.006602\n",
      "2025-01-02 -0.003392 -0.027930  0.000613\n",
      "2025-01-03  0.011494 -0.003356  0.015725\n",
      "Total Standard Deviation (Log Returns): 0.01263076561554221\n"
     ]
    }
   ],
   "source": [
    "#Part B: Calculate Log Returns\n",
    "log_returns = np.log(data / data.shift(1)).dropna()\n",
    "log_returns -= log_returns.mean()\n",
    "total_std_log = np.sqrt((log_returns**2).sum().sum() / (log_returns.size - 1))\n",
    "\n",
    "print(\"\\nLog Returns - Last 5 Rows:\")\n",
    "print(log_returns.tail())\n",
    "print(\"Total Standard Deviation (Log Returns):\", total_std_log)"
   ]
  },
  {
   "cell_type": "code",
   "execution_count": 21,
   "id": "632ff1e1-e103-4379-8644-af4d9166ee71",
   "metadata": {},
   "outputs": [],
   "source": [
    "#problem2"
   ]
  },
  {
   "cell_type": "code",
   "execution_count": 22,
   "id": "685304b0-1beb-48fb-b475-09c301eb68ed",
   "metadata": {},
   "outputs": [
    {
     "name": "stdout",
     "output_type": "stream",
     "text": [
      "Portfolio Value on 1/3/2025: 251862.4969482422\n"
     ]
    }
   ],
   "source": [
    "#Part A: Calculate Portfolio Value for 1/3/2025\n",
    "holdings = np.array([100, 200, 150])\n",
    "portfolio_value = (data.loc[\"2025-01-03\"] * holdings).sum()\n",
    "print(\"Portfolio Value on 1/3/2025:\", portfolio_value)"
   ]
  },
  {
   "cell_type": "code",
   "execution_count": 80,
   "id": "43ad2e4a-9451-4e1f-902d-0416f86a3bda",
   "metadata": {},
   "outputs": [
    {
     "name": "stdout",
     "output_type": "stream",
     "text": [
      "Method 1: Normally distributed with exponentially weighted covariance\n",
      "SPY VaR: -0.013285, SPY ES: -0.016660\n",
      "AAPL VaR: -0.022177, AAPL ES: -0.027811\n",
      "EQIX VaR: -0.025266, EQIX ES: -0.031684\n",
      "Portfolio VaR: -6.576392, Portfolio ES: -8.247061\n",
      "\n",
      "Method 2: T-distribution using a Gaussian Copula\n",
      "SPY VaR: -0.014738, SPY ES: -0.018247\n",
      "AAPL VaR: -0.021925, AAPL ES: -0.029540\n",
      "EQIX VaR: -0.025244, EQIX ES: -0.032743\n",
      "Portfolio VaR: -5.504036, Portfolio ES: -7.562423\n",
      "\n",
      "Method 3: Historic simulation using the full history\n",
      "SPY VaR: -0.014738, SPY ES: -0.018247\n",
      "AAPL VaR: -0.021925, AAPL ES: -0.029540\n",
      "EQIX VaR: -0.025244, EQIX ES: -0.032743\n",
      "Portfolio VaR: -7.929037, Portfolio ES: -9.909338\n"
     ]
    },
    {
     "name": "stderr",
     "output_type": "stream",
     "text": [
      "/var/folders/30/4j0_qfq56ll_fl0_jwr614tc0000gn/T/ipykernel_90878/414259222.py:57: DeprecationWarning: the `interpolation=` argument to percentile was renamed to `method=`, which has additional options.\n",
      "Users of the modes 'nearest', 'lower', 'higher', or 'midpoint' are encouraged to review the method they used. (Deprecated NumPy 1.22)\n",
      "  var_stocks_hist, es_stocks_hist, var_portfolio_hist, es_portfolio_hist = calculate_var_es_historical(returns, holdings, alpha)\n"
     ]
    }
   ],
   "source": [
    "#Part B: Calculate VaR and ES at 5% level using different methods\n",
    "\n",
    "def calculate_var_es_normal(returns, holdings, alpha=0.05, lambda_=0.97):\n",
    "    centered_returns = returns - returns.mean()\n",
    "    cov_matrix = centered_returns.ewm(span=(2/(1-lambda_)-1)).cov(pairwise=True).iloc[-len(holdings):]\n",
    "    port_variance = np.dot(holdings, np.dot(cov_matrix, holdings))\n",
    "    port_std = np.sqrt(port_variance)\n",
    "    var_stocks = norm.ppf(alpha) * centered_returns.std()\n",
    "    es_stocks = -centered_returns.std() * norm.pdf(norm.ppf(alpha)) / alpha\n",
    "    var_portfolio = norm.ppf(alpha) * port_std\n",
    "    es_portfolio = -port_std * norm.pdf(norm.ppf(alpha)) / alpha\n",
    "    return var_stocks, es_stocks, var_portfolio, es_portfolio\n",
    "\n",
    "def calculate_var_es_t_copula(returns, holdings, alpha=0.05):\n",
    "    centered_returns = returns - returns.mean()\n",
    "    t_params = [t.fit(centered_returns[col]) for col in centered_returns.columns]\n",
    "    simulated_returns = np.array([t.ppf(np.random.uniform(size=len(centered_returns)), *params) - t.mean(*params) for params in t_params]).T\n",
    "    portfolio_returns = np.dot(simulated_returns, holdings)\n",
    "    var_stocks = centered_returns.quantile(alpha)\n",
    "    es_stocks = centered_returns[centered_returns <= var_stocks].mean()\n",
    "    var_portfolio = np.percentile(portfolio_returns, alpha * 100)\n",
    "    es_portfolio = portfolio_returns[portfolio_returns <= var_portfolio].mean()\n",
    "    return var_stocks, es_stocks, var_portfolio, es_portfolio\n",
    "\n",
    "def calculate_var_es_historical(returns, holdings, alpha=0.05):\n",
    "    centered_returns = returns - returns.mean()\n",
    "    portfolio_returns = (centered_returns * holdings).sum(axis=1)\n",
    "    var_stocks = centered_returns.quantile(alpha)\n",
    "    es_stocks = centered_returns[centered_returns <= var_stocks].mean()\n",
    "    var_portfolio = np.percentile(portfolio_returns, alpha * 100, interpolation='lower')\n",
    "    es_portfolio = portfolio_returns[portfolio_returns <= var_portfolio].mean()\n",
    "    return var_stocks, es_stocks, var_portfolio, es_portfolio\n",
    "\n",
    "def calculate_returns(data):\n",
    "    return data.pct_change().dropna()\n",
    "\n",
    "stocks = [\"SPY\", \"AAPL\", \"EQIX\"]\n",
    "holdings = np.array([100, 200, 150])\n",
    "\n",
    "returns = calculate_returns(data)\n",
    "\n",
    "alpha = 0.05\n",
    "var_stocks_normal, es_stocks_normal, var_portfolio_normal, es_portfolio_normal = calculate_var_es_normal(returns, holdings, alpha)\n",
    "print(\"Method 1: Normally distributed with exponentially weighted covariance\")\n",
    "for stock in stocks:\n",
    "    print(f\"{stock} VaR: {var_stocks_normal[stock]:.6f}, {stock} ES: {es_stocks_normal[stock]:.6f}\")\n",
    "print(f\"Portfolio VaR: {var_portfolio_normal:.6f}, Portfolio ES: {es_portfolio_normal:.6f}\")\n",
    "print()\n",
    "\n",
    "var_stocks_t, es_stocks_t, var_portfolio_t, es_portfolio_t = calculate_var_es_t_copula(returns, holdings, alpha)\n",
    "print(\"Method 2: T-distribution using a Gaussian Copula\")\n",
    "for stock in stocks:\n",
    "    print(f\"{stock} VaR: {var_stocks_t[stock]:.6f}, {stock} ES: {es_stocks_t[stock]:.6f}\")\n",
    "print(f\"Portfolio VaR: {var_portfolio_t:.6f}, Portfolio ES: {es_portfolio_t:.6f}\")\n",
    "print()\n",
    "\n",
    "var_stocks_hist, es_stocks_hist, var_portfolio_hist, es_portfolio_hist = calculate_var_es_historical(returns, holdings, alpha)\n",
    "print(\"Method 3: Historic simulation using the full history\")\n",
    "for stock in stocks:\n",
    "    print(f\"{stock} VaR: {var_stocks_hist[stock]:.6f}, {stock} ES: {es_stocks_hist[stock]:.6f}\")\n",
    "print(f\"Portfolio VaR: {var_portfolio_hist:.6f}, Portfolio ES: {es_portfolio_hist:.6f}\")"
   ]
  },
  {
   "cell_type": "code",
   "execution_count": 74,
   "id": "0ceac112-a815-4621-aa47-555f2a26b233",
   "metadata": {},
   "outputs": [],
   "source": [
    "#problem3"
   ]
  },
  {
   "cell_type": "code",
   "execution_count": 75,
   "id": "fcf29ce2-7ce9-4646-adeb-f350238ca498",
   "metadata": {},
   "outputs": [],
   "source": [
    "S = 31\n",
    "K = 30\n",
    "T = 0.25\n",
    "r = 0.10\n",
    "C_market = 3.00\n",
    "sigma_initial = 0.2\n",
    "trading_days = 255\n",
    "alpha = 0.05\n",
    "holding_period = 20\n",
    "annual_vol = 0.25"
   ]
  },
  {
   "cell_type": "code",
   "execution_count": 76,
   "id": "25662a86-0da6-4a4b-ab7e-6cf8dfcb48af",
   "metadata": {},
   "outputs": [],
   "source": [
    "# Black-Scholes Call Price function\n",
    "def black_scholes_call(S, K, T, r, sigma):\n",
    "    d1 = (np.log(S/K) + (r + 0.5 * sigma**2) * T) / (sigma * np.sqrt(T))\n",
    "    d2 = d1 - sigma * np.sqrt(T)\n",
    "    call_price = S * stats.norm.cdf(d1) - K * np.exp(-r * T) * stats.norm.cdf(d2)\n",
    "    return call_price"
   ]
  },
  {
   "cell_type": "code",
   "execution_count": 77,
   "id": "eafc9fb4-5720-4998-ac58-181b4a63d203",
   "metadata": {},
   "outputs": [
    {
     "name": "stdout",
     "output_type": "stream",
     "text": [
      "Implied Volatility: 0.3350803924787905\n"
     ]
    }
   ],
   "source": [
    "#Part A: Implied Volatility Calculation using root finding\n",
    "def implied_volatility(S, K, T, r, C_market):\n",
    "    func = lambda sigma: black_scholes_call(S, K, T, r, sigma) - C_market\n",
    "    result = root_scalar(func, bracket=[0.01, 2.0], method='brentq')\n",
    "    return result.root if result.converged else np.nan\n",
    "\n",
    "sigma_iv = implied_volatility(S, K, T, r, C_market)\n",
    "print(f\"Implied Volatility: {sigma_iv}\")\n"
   ]
  },
  {
   "cell_type": "code",
   "execution_count": 78,
   "id": "02c2a178-e5a4-45d0-bd23-e45a2fd0d507",
   "metadata": {},
   "outputs": [
    {
     "name": "stdout",
     "output_type": "stream",
     "text": [
      "Delta: 0.6659296527386921, Vega: 5.640705439230117, Theta: -5.544561508358898\n",
      "Change in Call Price due to 1% IV increase: 0.056498427517343686\n"
     ]
    }
   ],
   "source": [
    "#Part B. Calculate Greeks\n",
    "def black_scholes_greeks(S, K, T, r, sigma):\n",
    "    d1 = (np.log(S/K) + (r + 0.5 * sigma**2) * T) / (sigma * np.sqrt(T))\n",
    "    d2 = d1 - sigma * np.sqrt(T)\n",
    "    \n",
    "    delta = stats.norm.cdf(d1)\n",
    "    vega = S * stats.norm.pdf(d1) * np.sqrt(T)\n",
    "    theta = - (S * stats.norm.pdf(d1) * sigma / (2 * np.sqrt(T))) - r * K * np.exp(-r * T) * stats.norm.cdf(d2)\n",
    "    \n",
    "    return delta, vega, theta\n",
    "\n",
    "delta, vega, theta = black_scholes_greeks(S, K, T, r, sigma_iv)\n",
    "print(f\"Delta: {delta}, Vega: {vega}, Theta: {theta}\")\n",
    "\n",
    "# Option price change due to 1% increase in implied volatility\n",
    "sigma_new = sigma_iv + 0.01\n",
    "call_price_new = black_scholes_call(S, K, T, r, sigma_new)\n",
    "call_price_change = call_price_new - C_market\n",
    "print(f\"Change in Call Price due to 1% IV increase: {call_price_change}\")"
   ]
  },
  {
   "cell_type": "code",
   "execution_count": 79,
   "id": "e59f6d7c-0450-4f00-b988-d4a09793ba8d",
   "metadata": {},
   "outputs": [
    {
     "name": "stdout",
     "output_type": "stream",
     "text": [
      "Put Price: 1.259297360849974\n",
      "Put-Call Parity Difference: 3.552713678800501e-15\n"
     ]
    }
   ],
   "source": [
    "# C. Generalized Black-Scholes-Merton Put Price and Put-Call Parity\n",
    "put_price = black_scholes_call(S, K, T, r, sigma_iv) - S + K * np.exp(-r * T)\n",
    "print(f\"Put Price: {put_price}\")\n",
    "\n",
    "# Check Put-Call Parity\n",
    "put_call_parity = C_market + K * np.exp(-r * T) - S\n",
    "print(f\"Put-Call Parity Difference: {abs(put_price - put_call_parity)}\")"
   ]
  },
  {
   "cell_type": "code",
   "execution_count": 69,
   "id": "9f9a46f4-184a-49e3-bd53-94bc3061e26b",
   "metadata": {},
   "outputs": [
    {
     "name": "stdout",
     "output_type": "stream",
     "text": [
      "VaR Delta-Normal Approximation: -3.987\n",
      "ES Delta-Normal Approximation: -5.0\n",
      "VaR Monte Carlo Simulation: 0.148\n",
      "ES Monte Carlo Simulation: 0.148\n"
     ]
    }
   ],
   "source": [
    "# D. VaR and ES Calculations\n",
    "S = 31\n",
    "K = 30\n",
    "T = 0.25\n",
    "C_market = 3.00\n",
    "P_market = 1.2593\n",
    "r = 0.10\n",
    "volatility_stock = 0.25\n",
    "alpha = 0.05\n",
    "holding_days = 20\n",
    "trading_days = 255\n",
    "\n",
    "volatility_holdings = volatility_stock * np.sqrt(holding_days / trading_days)\n",
    "\n",
    "def black_scholes_put(S, K, T, r, sigma):\n",
    "    d1 = (np.log(S / K) + (r + 0.5 * sigma ** 2) * T) / (sigma * np.sqrt(T))\n",
    "    d2 = d1 - sigma * np.sqrt(T)\n",
    "    put_price = K * np.exp(-r * T) * norm.cdf(-d2) - S * norm.cdf(-d1)\n",
    "    return put_price\n",
    "\n",
    "def black_scholes_theta(S, K, T, r, sigma):\n",
    "    d1 = (np.log(S / K) + (r + 0.5 * sigma ** 2) * T) / (sigma * np.sqrt(T))\n",
    "    d2 = d1 - sigma * np.sqrt(T)\n",
    "    \n",
    "    theta_call = (- (S * norm.pdf(d1) * sigma) / (2 * np.sqrt(T)) \n",
    "                  - r * K * np.exp(-r * T) * norm.cdf(d2)) / trading_days\n",
    "    \n",
    "    theta_put = (- (S * norm.pdf(d1) * sigma) / (2 * np.sqrt(T)) \n",
    "                 + r * K * np.exp(-r * T) * norm.cdf(-d2)) / trading_days\n",
    "    \n",
    "    return theta_call, theta_put\n",
    "\n",
    "theta_call, theta_put = black_scholes_theta(S, K, T, r, sigma_iv)\n",
    "theta_total = theta_call + theta_put\n",
    "option_value_decay = theta_total * holding_days\n",
    "\n",
    "portfolio_value = S + C_market + P_market + option_value_decay\n",
    "\n",
    "z_score = norm.ppf(1 - alpha)\n",
    "VaR_delta_normal = -z_score * portfolio_value * volatility_holdings\n",
    "ES_delta_normal = -portfolio_value * volatility_holdings * norm.pdf(z_score) / alpha\n",
    "\n",
    "print(\"VaR Delta-Normal Approximation:\", round(VaR_delta_normal, 3))\n",
    "print(\"ES Delta-Normal Approximation:\", round(ES_delta_normal, 3))\n",
    "\n",
    "simulations = 100000\n",
    "\n",
    "stock_returns = np.random.normal(-0.5 * volatility_stock**2 / trading_days, volatility_holdings, (simulations, holding_days))\n",
    "\n",
    "price_paths = S * np.exp(stock_returns.cumsum(axis=1))\n",
    "\n",
    "decay_paths = black_scholes_call(price_paths[:, -1], K, T - holding_days / trading_days, r, sigma_iv) + \\\n",
    "              black_scholes_put(price_paths[:, -1], K, T - holding_days / trading_days, r, sigma_iv)\n",
    "\n",
    "portfolio_paths = price_paths[:, -1] + decay_paths\n",
    "portfolio_returns = (portfolio_paths - portfolio_value) / portfolio_value\n",
    "\n",
    "VaR_monte_carlo = -np.percentile(portfolio_returns, alpha * 100)\n",
    "ES_monte_carlo = -portfolio_returns[portfolio_returns <= -VaR_monte_carlo].mean()\n",
    "\n",
    "print(\"VaR Monte Carlo Simulation:\", round(VaR_monte_carlo, 3))\n",
    "print(\"ES Monte Carlo Simulation:\", round(ES_monte_carlo, 3))\n",
    "\n"
   ]
  },
  {
   "cell_type": "code",
   "execution_count": 70,
   "id": "4700757a-1eb3-42f8-8373-439f2514f0cb",
   "metadata": {},
   "outputs": [
    {
     "data": {
      "image/png": "[encoded data removed]",
      "text/plain": [
       "<Figure size 1200x600 with 2 Axes>"
      ]
     },
     "metadata": {},
     "output_type": "display_data"
    }
   ],
   "source": [
    "# E. Portfolio Value vs Stock Price\n",
    "# Graph the portfolio value vs stock value for both methods\n",
    "stock_prices = np.linspace(10, 50, 100)\n",
    "\n",
    "# Delta-Normal Approximation (portfolio value as a function of stock price)\n",
    "portfolio_values_dn = stock_prices + C_market + P_market + option_value_decay\n",
    "\n",
    "# Monte Carlo Simulation (portfolio value)\n",
    "final_price_paths = price_paths[:, -1]\n",
    "decay_paths_mc = black_scholes_call(final_price_paths, K, T - holding_days / trading_days, r, sigma_iv) + \\\n",
    "                 black_scholes_put(final_price_paths, K, T - holding_days / trading_days, r, sigma_iv)\n",
    "portfolio_values_mc = final_price_paths + decay_paths_mc\n",
    "\n",
    "plt.figure(figsize=(12, 6))\n",
    "\n",
    "# Delta-Normal Approximation\n",
    "plt.subplot(1, 2, 1)\n",
    "plt.plot(stock_prices, portfolio_values_dn, label='Portfolio Value (Delta-Normal)', color='blue')\n",
    "plt.xlabel('Stock Value')\n",
    "plt.ylabel('Portfolio Value')\n",
    "plt.title('Delta-Normal Approximation')\n",
    "plt.legend()\n",
    "\n",
    "# Monte Carlo Simulation\n",
    "plt.subplot(1, 2, 2)\n",
    "plt.scatter(final_price_paths, portfolio_values_mc, label='Portfolio Value (Monte Carlo)', color='red', alpha=0.1)\n",
    "plt.xlabel('Stock Value')\n",
    "plt.ylabel('Portfolio Value')\n",
    "plt.title('Monte Carlo Simulation')\n",
    "plt.legend()\n",
    "\n",
    "plt.tight_layout()\n",
    "plt.show()\n"
   ]
  },
  {
   "cell_type": "code",
   "execution_count": null,
   "id": "82ae805a-54fc-408b-a33c-bd01c9ee7bba",
   "metadata": {},
   "outputs": [],
   "source": []
  }
 ],
 "metadata": {
  "kernelspec": {
   "display_name": "Python 3 (ipykernel)",
   "language": "python",
   "name": "python3"
  },
  "language_info": {
   "codemirror_mode": {
    "name": "ipython",
    "version": 3
   },
   "file_extension": ".py",
   "mimetype": "text/x-python",
   "name": "python",
   "nbconvert_exporter": "python",
   "pygments_lexer": "ipython3",
   "version": "3.13.1"
  }
 },
 "nbformat": 4,
 "nbformat_minor": 5
}
